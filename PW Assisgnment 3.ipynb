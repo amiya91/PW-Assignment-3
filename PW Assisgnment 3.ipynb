{
 "cells": [
  {
   "cell_type": "raw",
   "id": "ff00d36f-8a20-48c8-928f-6f9d16e753fb",
   "metadata": {},
   "source": [
    "Q1. Which keyword is used to create a function? Create a function to return a list of odd numbers in the\n",
    "range of 1 to 25."
   ]
  },
  {
   "cell_type": "raw",
   "id": "0968b69c-811f-4645-b992-f1b235517468",
   "metadata": {},
   "source": [
    ">>> def or lambda function is used to create a function"
   ]
  },
  {
   "cell_type": "code",
   "execution_count": 64,
   "id": "5dde5d9d-4c9c-4e94-97a4-4ad138b9b763",
   "metadata": {},
   "outputs": [
    {
     "data": {
      "text/plain": [
       "[1, 3, 5, 7, 9, 11, 13, 15, 17, 19, 21, 23, 25]"
      ]
     },
     "execution_count": 64,
     "metadata": {},
     "output_type": "execute_result"
    }
   ],
   "source": [
    "range(1,26)\n",
    "list(filter(lambda x:x%2!=0,L))"
   ]
  },
  {
   "cell_type": "code",
   "execution_count": 53,
   "id": "d1a47ce8-ed64-4cd4-8e25-15cb0723f189",
   "metadata": {},
   "outputs": [],
   "source": [
    "def odd_int():\n",
    "    L=[]\n",
    "    for i in range(1,26):\n",
    "        if i % 2 != 0:\n",
    "            L.append(i)\n",
    "    return L"
   ]
  },
  {
   "cell_type": "code",
   "execution_count": 54,
   "id": "237301af-6932-4015-8805-50a0a7ee887e",
   "metadata": {},
   "outputs": [
    {
     "data": {
      "text/plain": [
       "[1, 3, 5, 7, 9, 11, 13, 15, 17, 19, 21, 23, 25]"
      ]
     },
     "execution_count": 54,
     "metadata": {},
     "output_type": "execute_result"
    }
   ],
   "source": [
    "odd_int()"
   ]
  },
  {
   "cell_type": "raw",
   "id": "fc788c99-b0f5-43d0-a78e-3c5684a4495c",
   "metadata": {},
   "source": [
    "Q2. Why *args and **kwargs is used in some functions? Create a function each for *args and **kwargs\n",
    "to demonstrate their use."
   ]
  },
  {
   "cell_type": "raw",
   "id": "206b7c20-bfbe-43f4-b71e-1a70bf0c61e6",
   "metadata": {},
   "source": [
    ">>> In *args the main action is performed by asterisk *; args is short form for arguments which is generally used in the industry to pass n no. of arguments inside a function. Instead of args we can use any group of letters, but those group of letters must be preceded by an asterisk. All the data passed is stored inside a tuple only. Following is the demonstration:"
   ]
  },
  {
   "cell_type": "code",
   "execution_count": 81,
   "id": "322bd986-008e-49fa-bc09-58dc3bdf7359",
   "metadata": {},
   "outputs": [],
   "source": [
    "def PWSkills(*pws):\n",
    "    return pws"
   ]
  },
  {
   "cell_type": "code",
   "execution_count": 84,
   "id": "c485da5b-06b1-4ff4-bdf4-fa665f3ed5c1",
   "metadata": {},
   "outputs": [
    {
     "data": {
      "text/plain": [
       "(55.85, 85, 'India', [1, 2, 3, 4])"
      ]
     },
     "execution_count": 84,
     "metadata": {},
     "output_type": "execute_result"
    }
   ],
   "source": [
    "PWSkills(55.85, 85, \"India\", [1,2,3,4])"
   ]
  },
  {
   "cell_type": "raw",
   "id": "3ab758ce-e8e9-42ce-b661-f49b46610cbf",
   "metadata": {},
   "source": [
    ">>> In **kwargs the main action is performed by double asterisk **; kwargs is generally used in the industry to pass data in form of dictionary. Instead of kwargs we can use any group of letters, but those group of letters must be preceded by double asterisk. All the data passed is stored inside a dictionary only. Following is the demonstration:"
   ]
  },
  {
   "cell_type": "code",
   "execution_count": 85,
   "id": "5016e8ee-e281-4d6c-af9d-10620c6858fd",
   "metadata": {},
   "outputs": [],
   "source": [
    "def PWSkills(**pws):\n",
    "    return pws"
   ]
  },
  {
   "cell_type": "code",
   "execution_count": 89,
   "id": "3069f6b5-4400-4a68-926d-8e9e0cbedc1e",
   "metadata": {},
   "outputs": [
    {
     "data": {
      "text/plain": [
       "{'a': '55.85', 'b': '85', 'c': 'India', 'd': '[1, 2, 3, 4]'}"
      ]
     },
     "execution_count": 89,
     "metadata": {},
     "output_type": "execute_result"
    }
   ],
   "source": [
    "PWSkills(a = str(55.85), b = str(85), c = \"India\", d = str([1,2,3,4]))"
   ]
  },
  {
   "cell_type": "raw",
   "id": "45a90eed-2d48-4234-952e-9f6c365fe4db",
   "metadata": {},
   "source": [
    "Q3. What is an iterator in python? Name the method used to initialise the iterator object and the method used for iteration. Use these methods to print the first five elements of the given list [2, 4, 6, 8, 10, 12, 14, 16, 18, 20]."
   ]
  },
  {
   "cell_type": "raw",
   "id": "9fd40bcb-86bd-4c19-9aaf-3243dcd33786",
   "metadata": {},
   "source": [
    ">>> Iterator in python is an object that facilitates accessing the elements from a container object viz. list/dictionary one after another in a sequence."
   ]
  },
  {
   "cell_type": "raw",
   "id": "9147fdb6-4fec-4532-8dac-495dceeeb2c2",
   "metadata": {},
   "source": [
    ">>> Method used to initialise the iterator object: iter()\n",
    ">>> Method used for iteration: next() {next() retrieves the next element}"
   ]
  },
  {
   "cell_type": "code",
   "execution_count": 91,
   "id": "dd498a76-46b7-4b87-a166-688c256781be",
   "metadata": {},
   "outputs": [],
   "source": [
    "L = [2, 4, 6, 8, 10, 12, 14, 16, 18, 20]\n",
    "M = iter(L)"
   ]
  },
  {
   "cell_type": "code",
   "execution_count": 92,
   "id": "6eaa9ae2-3616-43ac-815f-09c5a85c10ca",
   "metadata": {},
   "outputs": [
    {
     "data": {
      "text/plain": [
       "2"
      ]
     },
     "execution_count": 92,
     "metadata": {},
     "output_type": "execute_result"
    }
   ],
   "source": [
    "next(M)"
   ]
  },
  {
   "cell_type": "code",
   "execution_count": 93,
   "id": "38e31df8-4630-4678-bff7-eda902345376",
   "metadata": {},
   "outputs": [
    {
     "data": {
      "text/plain": [
       "4"
      ]
     },
     "execution_count": 93,
     "metadata": {},
     "output_type": "execute_result"
    }
   ],
   "source": [
    "next(M)"
   ]
  },
  {
   "cell_type": "code",
   "execution_count": 94,
   "id": "d9df6b5d-1ddc-4373-8961-d5f0ac8b87b5",
   "metadata": {},
   "outputs": [
    {
     "data": {
      "text/plain": [
       "6"
      ]
     },
     "execution_count": 94,
     "metadata": {},
     "output_type": "execute_result"
    }
   ],
   "source": [
    "next(M)"
   ]
  },
  {
   "cell_type": "code",
   "execution_count": 95,
   "id": "02eb5c73-0493-4376-a1dc-b94479c7b3b7",
   "metadata": {},
   "outputs": [
    {
     "data": {
      "text/plain": [
       "8"
      ]
     },
     "execution_count": 95,
     "metadata": {},
     "output_type": "execute_result"
    }
   ],
   "source": [
    "next(M)"
   ]
  },
  {
   "cell_type": "code",
   "execution_count": 96,
   "id": "2ba748ca-aeb0-4ee7-83f0-a086f5238372",
   "metadata": {},
   "outputs": [
    {
     "data": {
      "text/plain": [
       "10"
      ]
     },
     "execution_count": 96,
     "metadata": {},
     "output_type": "execute_result"
    }
   ],
   "source": [
    "next(M)"
   ]
  },
  {
   "cell_type": "code",
   "execution_count": 100,
   "id": "64a16101-c2c1-4f46-893a-cbd9731d19f4",
   "metadata": {},
   "outputs": [],
   "source": [
    "B = L[0:5]"
   ]
  },
  {
   "cell_type": "code",
   "execution_count": 101,
   "id": "65c7e000-821b-4976-a85c-b09716dab74a",
   "metadata": {},
   "outputs": [
    {
     "data": {
      "text/plain": [
       "[2, 4, 6, 8, 10]"
      ]
     },
     "execution_count": 101,
     "metadata": {},
     "output_type": "execute_result"
    }
   ],
   "source": [
    "B"
   ]
  },
  {
   "cell_type": "code",
   "execution_count": 102,
   "id": "8100bb2d-538f-4d68-b3dc-3abb384927fe",
   "metadata": {},
   "outputs": [
    {
     "data": {
      "text/plain": [
       "5"
      ]
     },
     "execution_count": 102,
     "metadata": {},
     "output_type": "execute_result"
    }
   ],
   "source": [
    "len(B)"
   ]
  },
  {
   "cell_type": "raw",
   "id": "6b6f7970-1332-4157-adea-f3a290a3b39e",
   "metadata": {},
   "source": [
    "Q4. What is a generator function in python? Why yield keyword is used? Give an example of a generator function."
   ]
  },
  {
   "cell_type": "raw",
   "id": "c7329c75-2d23-4fa4-b8dd-9e5446b56290",
   "metadata": {},
   "source": [
    ">>> Generator function does not retrieve all elements at once. We use generator function to retrieve data which we need. By using generator function we basically create a blue print to retreive data which we need. \n",
    ">>>The execution from a generator function can be paused and restarted from where it was stopped. It is done using the 'yield' keyword. \n",
    ">>>By using a 'yield' statment we can produce a value with the help of an iterator and the generator function will temporarily stop after producing that value."
   ]
  },
  {
   "cell_type": "code",
   "execution_count": 12,
   "id": "dd929705-9b99-4da9-9d17-10633eba1974",
   "metadata": {},
   "outputs": [],
   "source": [
    "def pw_skills(n):\n",
    "    for i in range(n):\n",
    "        yield i"
   ]
  },
  {
   "cell_type": "code",
   "execution_count": 13,
   "id": "22669c85-c81c-44c1-a667-7b315911d378",
   "metadata": {},
   "outputs": [],
   "source": [
    "A = pw_skills(10)"
   ]
  },
  {
   "cell_type": "code",
   "execution_count": 14,
   "id": "3e986287-a466-4b94-a0ca-517af50688db",
   "metadata": {},
   "outputs": [
    {
     "name": "stdout",
     "output_type": "stream",
     "text": [
      "0\n",
      "1\n",
      "2\n",
      "3\n",
      "4\n",
      "5\n",
      "6\n",
      "7\n",
      "8\n",
      "9\n"
     ]
    }
   ],
   "source": [
    "for i in A:\n",
    "    print(i)"
   ]
  },
  {
   "cell_type": "raw",
   "id": "c0a1c40d-50c7-45db-95a4-3eda4019ad36",
   "metadata": {},
   "source": [
    "Q5. Create a generator function for prime numbers less than 1000. Use the next() method to print the first 20 prime numbers."
   ]
  },
  {
   "cell_type": "code",
   "execution_count": 32,
   "id": "330d098e-e1a6-4509-9d2d-5ab2257ed0d2",
   "metadata": {},
   "outputs": [],
   "source": [
    "def prime_nos():\n",
    "    P = []\n",
    "    for i in range(2, 1000):\n",
    "        num_is_prime = True\n",
    "        for a in P:\n",
    "            if i % a == 0:\n",
    "                num_is_prime = False\n",
    "                break\n",
    "        if num_is_prime:\n",
    "            P.append(i)\n",
    "            yield i"
   ]
  },
  {
   "cell_type": "code",
   "execution_count": 33,
   "id": "80609f1a-a922-4208-b45d-81e37c84e5c8",
   "metadata": {},
   "outputs": [
    {
     "name": "stdout",
     "output_type": "stream",
     "text": [
      "2\n",
      "3\n",
      "5\n",
      "7\n",
      "11\n",
      "13\n",
      "17\n",
      "19\n",
      "23\n",
      "29\n",
      "31\n",
      "37\n",
      "41\n",
      "43\n",
      "47\n",
      "53\n",
      "59\n",
      "61\n",
      "67\n",
      "71\n"
     ]
    }
   ],
   "source": [
    "P_N = prime_nos()\n",
    "for p in range(20):\n",
    "    a = next(P_N)\n",
    "    print(a)"
   ]
  },
  {
   "cell_type": "raw",
   "id": "d49d048f-8e43-4190-8771-01d62f4aa9c3",
   "metadata": {},
   "source": [
    "Q6. Write a python program to print the first 10 Fibonacci numbers using a while loop."
   ]
  },
  {
   "cell_type": "code",
   "execution_count": 43,
   "id": "2f253f1a-0c3e-4885-b0bb-6e8bbe3618c8",
   "metadata": {},
   "outputs": [
    {
     "name": "stdout",
     "output_type": "stream",
     "text": [
      "0\n",
      "0\n",
      "0\n",
      "0\n",
      "0\n",
      "0\n",
      "0\n",
      "0\n",
      "0\n",
      "0\n"
     ]
    }
   ],
   "source": [
    "def num_fib():\n",
    "    X1, X2 = 0, 1\n",
    "    A=0\n",
    "    while A < 10:\n",
    "        print(X1)\n",
    "        X1, X2 = X1, X1 + X2\n",
    "        A += 1\n",
    "num_fib()"
   ]
  },
  {
   "cell_type": "code",
   "execution_count": 53,
   "id": "ffa06c8a-8c38-4a43-879f-ef10dabf3cc9",
   "metadata": {},
   "outputs": [],
   "source": [
    "def num_fib(n):\n",
    "    a,b = 0,1\n",
    "    for i in range (n):\n",
    "        yield a\n",
    "        a,b = b,a+b"
   ]
  },
  {
   "cell_type": "code",
   "execution_count": 54,
   "id": "9a162f2e-c643-4894-a7c1-12d076454dee",
   "metadata": {},
   "outputs": [
    {
     "data": {
      "text/plain": [
       "<generator object num_fib at 0x7f7160172ea0>"
      ]
     },
     "execution_count": 54,
     "metadata": {},
     "output_type": "execute_result"
    }
   ],
   "source": [
    "num_fib(10)"
   ]
  },
  {
   "cell_type": "code",
   "execution_count": 55,
   "id": "d240767e-9bee-4d9e-8b64-f7da4a1902d1",
   "metadata": {},
   "outputs": [
    {
     "name": "stdout",
     "output_type": "stream",
     "text": [
      "0\n",
      "1\n",
      "1\n",
      "2\n",
      "3\n",
      "5\n",
      "8\n",
      "13\n",
      "21\n",
      "34\n"
     ]
    }
   ],
   "source": [
    "for i in num_fib(10):\n",
    "    print(i)"
   ]
  },
  {
   "cell_type": "raw",
   "id": "485c3ea6-2b5f-41cc-980f-27e2249d7bf4",
   "metadata": {},
   "source": [
    "Q7. Write a List Comprehension to iterate through the given string: ‘pwskills’. Expected output: ['p', 'w', 's', 'k', 'i', 'l', 'l', 's']"
   ]
  },
  {
   "cell_type": "code",
   "execution_count": 57,
   "id": "91989f4b-48a3-46a4-90c3-b1221e2ce873",
   "metadata": {},
   "outputs": [
    {
     "data": {
      "text/plain": [
       "['p', 'w', 's', 'k', 'i', 'l', 'l', 's']"
      ]
     },
     "execution_count": 57,
     "metadata": {},
     "output_type": "execute_result"
    }
   ],
   "source": [
    "L =\"pwskills\"\n",
    "list(map(lambda C:C,C))"
   ]
  },
  {
   "cell_type": "raw",
   "id": "cf54db30-1e64-422b-988c-a9531e7e6d45",
   "metadata": {},
   "source": [
    "Q8. Write a python program to check whether a given number is Palindrome or not using a while loop."
   ]
  },
  {
   "cell_type": "code",
   "execution_count": 1,
   "id": "d107ae8a-34dc-4743-aa0f-e9b5a489e374",
   "metadata": {},
   "outputs": [
    {
     "name": "stdin",
     "output_type": "stream",
     "text": [
      "Enter a number:  101\n"
     ]
    },
    {
     "name": "stdout",
     "output_type": "stream",
     "text": [
      "101 is a palindrome\n"
     ]
    }
   ],
   "source": [
    "def is_palindrome(num):\n",
    "    original_num = num\n",
    "    reversed_num = 0\n",
    "\n",
    "    while num > 0:\n",
    "        remainder = num % 10\n",
    "        reversed_num = (reversed_num * 10) + remainder\n",
    "        num //= 10\n",
    "\n",
    "    if original_num == reversed_num:\n",
    "        return True\n",
    "    else:\n",
    "        return False\n",
    "\n",
    "number = int(input(\"Enter a number: \"))\n",
    "\n",
    "if is_palindrome(number):\n",
    "    print(number, \"is a palindrome\")\n",
    "else:\n",
    "    print(number, \"is not a palindrome\")\n"
   ]
  },
  {
   "cell_type": "code",
   "execution_count": 2,
   "id": "31889995-6441-4da4-b4da-7c5f63227dd8",
   "metadata": {},
   "outputs": [
    {
     "name": "stdin",
     "output_type": "stream",
     "text": [
      "Enter a number:  100\n"
     ]
    },
    {
     "name": "stdout",
     "output_type": "stream",
     "text": [
      "100 is not a palindrome\n"
     ]
    }
   ],
   "source": [
    "def is_palindrome(num):\n",
    "    original_num = num\n",
    "    reversed_num = 0\n",
    "\n",
    "    while num > 0:\n",
    "        remainder = num % 10\n",
    "        reversed_num = (reversed_num * 10) + remainder\n",
    "        num //= 10\n",
    "\n",
    "    if original_num == reversed_num:\n",
    "        return True\n",
    "    else:\n",
    "        return False\n",
    "\n",
    "number = int(input(\"Enter a number: \"))\n",
    "\n",
    "if is_palindrome(number):\n",
    "    print(number, \"is a palindrome\")\n",
    "else:\n",
    "    print(number, \"is not a palindrome\")"
   ]
  },
  {
   "cell_type": "raw",
   "id": "4de5a896-1dbf-40d9-98a1-f69f5feca09f",
   "metadata": {},
   "source": [
    "Q9. Write a code to print odd numbers from 1 to 100 using list comprehension."
   ]
  },
  {
   "cell_type": "code",
   "execution_count": 4,
   "id": "6e7915ea-626c-4b34-ab69-45f80becd484",
   "metadata": {},
   "outputs": [
    {
     "name": "stdout",
     "output_type": "stream",
     "text": [
      "1\n",
      "3\n",
      "5\n",
      "7\n",
      "9\n",
      "11\n",
      "13\n",
      "15\n",
      "17\n",
      "19\n",
      "21\n",
      "23\n",
      "25\n",
      "27\n",
      "29\n",
      "31\n",
      "33\n",
      "35\n",
      "37\n",
      "39\n",
      "41\n",
      "43\n",
      "45\n",
      "47\n",
      "49\n",
      "51\n",
      "53\n",
      "55\n",
      "57\n",
      "59\n",
      "61\n",
      "63\n",
      "65\n",
      "67\n",
      "69\n",
      "71\n",
      "73\n",
      "75\n",
      "77\n",
      "79\n",
      "81\n",
      "83\n",
      "85\n",
      "87\n",
      "89\n",
      "91\n",
      "93\n",
      "95\n",
      "97\n",
      "99\n"
     ]
    }
   ],
   "source": [
    "odd_numbers = [A for A in range(1, 101) if A % 2 != 0]\n",
    "for A in odd_numbers:\n",
    "    print(A)"
   ]
  },
  {
   "cell_type": "code",
   "execution_count": null,
   "id": "44a76b65-7a3b-4140-bf6d-acfd7e0328b5",
   "metadata": {},
   "outputs": [],
   "source": []
  }
 ],
 "metadata": {
  "kernelspec": {
   "display_name": "Python 3 (ipykernel)",
   "language": "python",
   "name": "python3"
  },
  "language_info": {
   "codemirror_mode": {
    "name": "ipython",
    "version": 3
   },
   "file_extension": ".py",
   "mimetype": "text/x-python",
   "name": "python",
   "nbconvert_exporter": "python",
   "pygments_lexer": "ipython3",
   "version": "3.10.8"
  }
 },
 "nbformat": 4,
 "nbformat_minor": 5
}
